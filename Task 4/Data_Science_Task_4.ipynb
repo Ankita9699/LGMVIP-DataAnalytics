{
  "nbformat": 4,
  "nbformat_minor": 0,
  "metadata": {
    "colab": {
      "name": "Data Science Task 4.ipynb",
      "provenance": [],
      "collapsed_sections": [],
      "authorship_tag": "ABX9TyOdUFm95JbI1lCBNG6z31mp",
      "include_colab_link": true
    },
    "kernelspec": {
      "name": "python3",
      "display_name": "Python 3"
    },
    "language_info": {
      "name": "python"
    }
  },
  "cells": [
    {
      "cell_type": "markdown",
      "metadata": {
        "id": "view-in-github",
        "colab_type": "text"
      },
      "source": [
        "<a href=\"https://colab.research.google.com/github/Ankita9699/LGMVIP-DataAnalytics/blob/main/Task%204/Data_Science_Task_4.ipynb\" target=\"_parent\"><img src=\"https://colab.research.google.com/assets/colab-badge.svg\" alt=\"Open In Colab\"/></a>"
      ]
    },
    {
      "cell_type": "markdown",
      "source": [
        "# **Let's Grow More**\n",
        "\n",
        "---\n",
        "\n",
        "\n",
        "\n",
        "---\n",
        "\n",
        "\n",
        "\n",
        "# **Data Science Internship**\n",
        "\n",
        "---\n",
        "\n",
        "\n",
        "\n",
        "---\n",
        "\n",
        "\n",
        "\n",
        "## **Task-4 : Exploratory Data Analysis on Dataset - Terrorism**\n",
        "\n",
        "\n",
        "**Description :-**\n",
        "\n",
        "As a security/defense analyst, try to find out the hot zone of terrorism\n",
        "\n",
        "\n",
        "***Dataset-Link: https://bit.ly/2TK5Xn5***\n"
      ],
      "metadata": {
        "id": "NuOj4ZnD09yI"
      }
    },
    {
      "cell_type": "markdown",
      "source": [
        "***Importing the dataset***"
      ],
      "metadata": {
        "id": "MkE3a6iG20U_"
      }
    },
    {
      "cell_type": "code",
      "source": [
        "import pandas as pd"
      ],
      "metadata": {
        "id": "CzRvLEwD1-Fl"
      },
      "execution_count": null,
      "outputs": []
    },
    {
      "cell_type": "code",
      "source": [
        "df = pd.read_csv('globalterrorismdb_0718dist.csv', encoding='latin1')"
      ],
      "metadata": {
        "colab": {
          "base_uri": "https://localhost:8080/"
        },
        "id": "Xxty71nD7BUq",
        "outputId": "afb8f58a-01de-48f9-9a41-bbe54da56be1"
      },
      "execution_count": null,
      "outputs": [
        {
          "output_type": "stream",
          "name": "stderr",
          "text": [
            "/usr/local/lib/python3.7/dist-packages/IPython/core/interactiveshell.py:2718: DtypeWarning: Columns (4,6,31,33,61,62,63,76,79,90,92,94,96,114,115,121) have mixed types.Specify dtype option on import or set low_memory=False.\n",
            "  interactivity=interactivity, compiler=compiler, result=result)\n"
          ]
        }
      ]
    },
    {
      "cell_type": "code",
      "source": [
        "print(df.head())\n",
        "print(df.tail())"
      ],
      "metadata": {
        "colab": {
          "base_uri": "https://localhost:8080/"
        },
        "id": "WrlFdCDL9AJl",
        "outputId": "0db99828-3d73-4fe0-8020-b2cfcf3c2e5a"
      },
      "execution_count": null,
      "outputs": [
        {
          "output_type": "stream",
          "name": "stdout",
          "text": [
            "        eventid  iyear  imonth  iday  ... INT_IDEO  INT_MISC INT_ANY  related\n",
            "0  197000000001   1970       7     2  ...      0.0       0.0     0.0      NaN\n",
            "1  197000000002   1970       0     0  ...      1.0       1.0     1.0      NaN\n",
            "2  197001000001   1970       1     0  ...     -9.0       1.0     1.0      NaN\n",
            "3  197001000002   1970       1     0  ...     -9.0       1.0     1.0      NaN\n",
            "4  197001000003   1970       1     0  ...     -9.0       1.0     1.0      NaN\n",
            "\n",
            "[5 rows x 135 columns]\n",
            "             eventid  iyear  imonth  iday  ... INT_IDEO  INT_MISC INT_ANY  related\n",
            "164292  201607010002   2016       7     1  ...      0.0       0.0     0.0      NaN\n",
            "164293  201607010003   2016       7     1  ...      0.0       0.0     0.0      NaN\n",
            "164294  201607010004   2016       7     1  ...     -9.0       0.0    -9.0      NaN\n",
            "164295  201607010005   2016       7     1  ...     -9.0       0.0    -9.0      NaN\n",
            "164296  201607010006   2016       7     1  ...      NaN       NaN     NaN      NaN\n",
            "\n",
            "[5 rows x 135 columns]\n"
          ]
        }
      ]
    },
    {
      "cell_type": "markdown",
      "source": [
        "***Shape of Dataset***"
      ],
      "metadata": {
        "id": "cDkMZ_BH9ExF"
      }
    },
    {
      "cell_type": "code",
      "source": [
        "df.shape"
      ],
      "metadata": {
        "colab": {
          "base_uri": "https://localhost:8080/"
        },
        "id": "Lqt-midr9Ggt",
        "outputId": "0abd9c4a-257f-4272-e329-56ac6cbf3e63"
      },
      "execution_count": null,
      "outputs": [
        {
          "output_type": "execute_result",
          "data": {
            "text/plain": [
              "(164297, 135)"
            ]
          },
          "metadata": {},
          "execution_count": 22
        }
      ]
    },
    {
      "cell_type": "markdown",
      "source": [
        "***Name of 135 columns***"
      ],
      "metadata": {
        "id": "WcHL9OGM9vW9"
      }
    },
    {
      "cell_type": "code",
      "source": [
        "df.columns.values"
      ],
      "metadata": {
        "colab": {
          "base_uri": "https://localhost:8080/"
        },
        "id": "P8BPfwvc9uGJ",
        "outputId": "84e1dadd-fad7-4015-8321-3abc8fdefad3"
      },
      "execution_count": null,
      "outputs": [
        {
          "output_type": "execute_result",
          "data": {
            "text/plain": [
              "array(['eventid', 'iyear', 'imonth', 'iday', 'approxdate', 'extended',\n",
              "       'resolution', 'country', 'country_txt', 'region', 'region_txt',\n",
              "       'provstate', 'city', 'latitude', 'longitude', 'specificity',\n",
              "       'vicinity', 'location', 'summary', 'crit1', 'crit2', 'crit3',\n",
              "       'doubtterr', 'alternative', 'alternative_txt', 'multiple',\n",
              "       'success', 'suicide', 'attacktype1', 'attacktype1_txt',\n",
              "       'attacktype2', 'attacktype2_txt', 'attacktype3', 'attacktype3_txt',\n",
              "       'targtype1', 'targtype1_txt', 'targsubtype1', 'targsubtype1_txt',\n",
              "       'corp1', 'target1', 'natlty1', 'natlty1_txt', 'targtype2',\n",
              "       'targtype2_txt', 'targsubtype2', 'targsubtype2_txt', 'corp2',\n",
              "       'target2', 'natlty2', 'natlty2_txt', 'targtype3', 'targtype3_txt',\n",
              "       'targsubtype3', 'targsubtype3_txt', 'corp3', 'target3', 'natlty3',\n",
              "       'natlty3_txt', 'gname', 'gsubname', 'gname2', 'gsubname2',\n",
              "       'gname3', 'gsubname3', 'motive', 'guncertain1', 'guncertain2',\n",
              "       'guncertain3', 'individual', 'nperps', 'nperpcap', 'claimed',\n",
              "       'claimmode', 'claimmode_txt', 'claim2', 'claimmode2',\n",
              "       'claimmode2_txt', 'claim3', 'claimmode3', 'claimmode3_txt',\n",
              "       'compclaim', 'weaptype1', 'weaptype1_txt', 'weapsubtype1',\n",
              "       'weapsubtype1_txt', 'weaptype2', 'weaptype2_txt', 'weapsubtype2',\n",
              "       'weapsubtype2_txt', 'weaptype3', 'weaptype3_txt', 'weapsubtype3',\n",
              "       'weapsubtype3_txt', 'weaptype4', 'weaptype4_txt', 'weapsubtype4',\n",
              "       'weapsubtype4_txt', 'weapdetail', 'nkill', 'nkillus', 'nkillter',\n",
              "       'nwound', 'nwoundus', 'nwoundte', 'property', 'propextent',\n",
              "       'propextent_txt', 'propvalue', 'propcomment', 'ishostkid',\n",
              "       'nhostkid', 'nhostkidus', 'nhours', 'ndays', 'divert',\n",
              "       'kidhijcountry', 'ransom', 'ransomamt', 'ransomamtus',\n",
              "       'ransompaid', 'ransompaidus', 'ransomnote', 'hostkidoutcome',\n",
              "       'hostkidoutcome_txt', 'nreleased', 'addnotes', 'scite1', 'scite2',\n",
              "       'scite3', 'dbsource', 'INT_LOG', 'INT_IDEO', 'INT_MISC', 'INT_ANY',\n",
              "       'related'], dtype=object)"
            ]
          },
          "metadata": {},
          "execution_count": 23
        }
      ]
    },
    {
      "cell_type": "markdown",
      "source": [
        "***Unique elements in Dataset***"
      ],
      "metadata": {
        "id": "XUX3H361-tOz"
      }
    },
    {
      "cell_type": "code",
      "source": [
        "df.nunique()"
      ],
      "metadata": {
        "id": "txY3_ggq_0bQ",
        "colab": {
          "base_uri": "https://localhost:8080/"
        },
        "outputId": "d9cb64ed-5e43-42e0-8acd-7ed05f14d4f0"
      },
      "execution_count": null,
      "outputs": [
        {
          "output_type": "execute_result",
          "data": {
            "text/plain": [
              "eventid       164297\n",
              "iyear             46\n",
              "imonth            13\n",
              "iday              32\n",
              "approxdate      1635\n",
              "               ...  \n",
              "INT_LOG            3\n",
              "INT_IDEO           3\n",
              "INT_MISC           3\n",
              "INT_ANY            3\n",
              "related        13243\n",
              "Length: 135, dtype: int64"
            ]
          },
          "metadata": {},
          "execution_count": 24
        }
      ]
    },
    {
      "cell_type": "markdown",
      "source": [
        "***Null values in Dataset***"
      ],
      "metadata": {
        "id": "5HopvjnTEtrD"
      }
    },
    {
      "cell_type": "code",
      "source": [
        "df.isnull().sum()"
      ],
      "metadata": {
        "id": "rrc_5MRf_4E0",
        "colab": {
          "base_uri": "https://localhost:8080/"
        },
        "outputId": "8038779f-8bf8-493a-b23f-0dd46c73fd32"
      },
      "execution_count": null,
      "outputs": [
        {
          "output_type": "execute_result",
          "data": {
            "text/plain": [
              "eventid            0\n",
              "iyear              0\n",
              "imonth             0\n",
              "iday               0\n",
              "approxdate    158086\n",
              "               ...  \n",
              "INT_LOG            1\n",
              "INT_IDEO           1\n",
              "INT_MISC           1\n",
              "INT_ANY            1\n",
              "related       142441\n",
              "Length: 135, dtype: int64"
            ]
          },
          "metadata": {},
          "execution_count": 26
        }
      ]
    },
    {
      "cell_type": "markdown",
      "source": [
        "***Info of Dataset***"
      ],
      "metadata": {
        "id": "pjzVZINTE1Ae"
      }
    },
    {
      "cell_type": "code",
      "source": [
        "df.info()"
      ],
      "metadata": {
        "colab": {
          "base_uri": "https://localhost:8080/"
        },
        "id": "ht06i1pIE5Zl",
        "outputId": "f799e6cc-ec03-4d63-af9f-905d2d9b6dd9"
      },
      "execution_count": null,
      "outputs": [
        {
          "output_type": "stream",
          "name": "stdout",
          "text": [
            "<class 'pandas.core.frame.DataFrame'>\n",
            "RangeIndex: 164297 entries, 0 to 164296\n",
            "Columns: 135 entries, eventid to related\n",
            "dtypes: float64(60), int64(17), object(58)\n",
            "memory usage: 169.2+ MB\n"
          ]
        }
      ]
    },
    {
      "cell_type": "markdown",
      "source": [
        "***Describing Dataset***"
      ],
      "metadata": {
        "id": "qm7vDAznFECc"
      }
    },
    {
      "cell_type": "code",
      "source": [
        "df.describe()"
      ],
      "metadata": {
        "colab": {
          "base_uri": "https://localhost:8080/",
          "height": 364
        },
        "id": "1lRzqTMPFFn_",
        "outputId": "86a5763f-40d3-4431-a2b0-51a3d3b7a756"
      },
      "execution_count": null,
      "outputs": [
        {
          "output_type": "execute_result",
          "data": {
            "text/html": [
              "\n",
              "  <div id=\"df-a0b4fa25-6537-4426-af6e-da2c48f069a8\">\n",
              "    <div class=\"colab-df-container\">\n",
              "      <div>\n",
              "<style scoped>\n",
              "    .dataframe tbody tr th:only-of-type {\n",
              "        vertical-align: middle;\n",
              "    }\n",
              "\n",
              "    .dataframe tbody tr th {\n",
              "        vertical-align: top;\n",
              "    }\n",
              "\n",
              "    .dataframe thead th {\n",
              "        text-align: right;\n",
              "    }\n",
              "</style>\n",
              "<table border=\"1\" class=\"dataframe\">\n",
              "  <thead>\n",
              "    <tr style=\"text-align: right;\">\n",
              "      <th></th>\n",
              "      <th>eventid</th>\n",
              "      <th>iyear</th>\n",
              "      <th>imonth</th>\n",
              "      <th>iday</th>\n",
              "      <th>extended</th>\n",
              "      <th>country</th>\n",
              "      <th>region</th>\n",
              "      <th>latitude</th>\n",
              "      <th>longitude</th>\n",
              "      <th>specificity</th>\n",
              "      <th>vicinity</th>\n",
              "      <th>crit1</th>\n",
              "      <th>crit2</th>\n",
              "      <th>crit3</th>\n",
              "      <th>doubtterr</th>\n",
              "      <th>alternative</th>\n",
              "      <th>multiple</th>\n",
              "      <th>success</th>\n",
              "      <th>suicide</th>\n",
              "      <th>attacktype1</th>\n",
              "      <th>attacktype2</th>\n",
              "      <th>attacktype3</th>\n",
              "      <th>targtype1</th>\n",
              "      <th>targsubtype1</th>\n",
              "      <th>natlty1</th>\n",
              "      <th>targtype2</th>\n",
              "      <th>targsubtype2</th>\n",
              "      <th>natlty2</th>\n",
              "      <th>targtype3</th>\n",
              "      <th>targsubtype3</th>\n",
              "      <th>natlty3</th>\n",
              "      <th>guncertain1</th>\n",
              "      <th>guncertain2</th>\n",
              "      <th>guncertain3</th>\n",
              "      <th>individual</th>\n",
              "      <th>nperps</th>\n",
              "      <th>nperpcap</th>\n",
              "      <th>claimed</th>\n",
              "      <th>claimmode</th>\n",
              "      <th>claim2</th>\n",
              "      <th>claimmode2</th>\n",
              "      <th>claim3</th>\n",
              "      <th>claimmode3</th>\n",
              "      <th>compclaim</th>\n",
              "      <th>weaptype1</th>\n",
              "      <th>weapsubtype1</th>\n",
              "      <th>weaptype2</th>\n",
              "      <th>weapsubtype2</th>\n",
              "      <th>weaptype3</th>\n",
              "      <th>weapsubtype3</th>\n",
              "      <th>weaptype4</th>\n",
              "      <th>weapsubtype4</th>\n",
              "      <th>nkill</th>\n",
              "      <th>nkillus</th>\n",
              "      <th>nkillter</th>\n",
              "      <th>nwound</th>\n",
              "      <th>nwoundus</th>\n",
              "      <th>nwoundte</th>\n",
              "      <th>property</th>\n",
              "      <th>propextent</th>\n",
              "      <th>propvalue</th>\n",
              "      <th>ishostkid</th>\n",
              "      <th>nhostkid</th>\n",
              "      <th>nhostkidus</th>\n",
              "      <th>nhours</th>\n",
              "      <th>ndays</th>\n",
              "      <th>ransom</th>\n",
              "      <th>ransomamt</th>\n",
              "      <th>ransomamtus</th>\n",
              "      <th>ransompaid</th>\n",
              "      <th>ransompaidus</th>\n",
              "      <th>hostkidoutcome</th>\n",
              "      <th>nreleased</th>\n",
              "      <th>INT_LOG</th>\n",
              "      <th>INT_IDEO</th>\n",
              "      <th>INT_MISC</th>\n",
              "      <th>INT_ANY</th>\n",
              "    </tr>\n",
              "  </thead>\n",
              "  <tbody>\n",
              "    <tr>\n",
              "      <th>count</th>\n",
              "      <td>1.642970e+05</td>\n",
              "      <td>164297.000000</td>\n",
              "      <td>164297.000000</td>\n",
              "      <td>164297.000000</td>\n",
              "      <td>164297.000000</td>\n",
              "      <td>164297.000000</td>\n",
              "      <td>164297.000000</td>\n",
              "      <td>159820.000000</td>\n",
              "      <td>1.598190e+05</td>\n",
              "      <td>164291.000000</td>\n",
              "      <td>164297.000000</td>\n",
              "      <td>164297.000000</td>\n",
              "      <td>164297.000000</td>\n",
              "      <td>164297.000000</td>\n",
              "      <td>164296.000000</td>\n",
              "      <td>25551.000000</td>\n",
              "      <td>164296.000000</td>\n",
              "      <td>164297.000000</td>\n",
              "      <td>164297.000000</td>\n",
              "      <td>164297.000000</td>\n",
              "      <td>5304.000000</td>\n",
              "      <td>354.000000</td>\n",
              "      <td>164297.000000</td>\n",
              "      <td>155477.000000</td>\n",
              "      <td>162953.000000</td>\n",
              "      <td>9544.000000</td>\n",
              "      <td>9100.000000</td>\n",
              "      <td>9233.000000</td>\n",
              "      <td>1007.000000</td>\n",
              "      <td>934.000000</td>\n",
              "      <td>979.000000</td>\n",
              "      <td>163917.000000</td>\n",
              "      <td>1426.000000</td>\n",
              "      <td>197.000000</td>\n",
              "      <td>164297.000000</td>\n",
              "      <td>93182.000000</td>\n",
              "      <td>94808.000000</td>\n",
              "      <td>98177.000000</td>\n",
              "      <td>14980.000000</td>\n",
              "      <td>1361.000000</td>\n",
              "      <td>454.000000</td>\n",
              "      <td>195.000000</td>\n",
              "      <td>85.000000</td>\n",
              "      <td>4677.000000</td>\n",
              "      <td>164297.000000</td>\n",
              "      <td>145544.000000</td>\n",
              "      <td>11173.000000</td>\n",
              "      <td>9917.000000</td>\n",
              "      <td>1562.000000</td>\n",
              "      <td>1425.000000</td>\n",
              "      <td>73.000000</td>\n",
              "      <td>70.000000</td>\n",
              "      <td>154977.000000</td>\n",
              "      <td>99857.000000</td>\n",
              "      <td>97804.000000</td>\n",
              "      <td>149476.000000</td>\n",
              "      <td>99603.000000</td>\n",
              "      <td>95744.000000</td>\n",
              "      <td>164296.000000</td>\n",
              "      <td>58469.000000</td>\n",
              "      <td>3.339300e+04</td>\n",
              "      <td>164118.000000</td>\n",
              "      <td>12009.000000</td>\n",
              "      <td>11954.000000</td>\n",
              "      <td>3536.000000</td>\n",
              "      <td>7088.000000</td>\n",
              "      <td>75818.000000</td>\n",
              "      <td>1.246000e+03</td>\n",
              "      <td>4.600000e+02</td>\n",
              "      <td>6.710000e+02</td>\n",
              "      <td>449.000000</td>\n",
              "      <td>9428.000000</td>\n",
              "      <td>8837.000000</td>\n",
              "      <td>164296.000000</td>\n",
              "      <td>164296.000000</td>\n",
              "      <td>164296.000000</td>\n",
              "      <td>164296.000000</td>\n",
              "    </tr>\n",
              "    <tr>\n",
              "      <th>mean</th>\n",
              "      <td>2.001223e+11</td>\n",
              "      <td>2001.158134</td>\n",
              "      <td>6.359666</td>\n",
              "      <td>15.465474</td>\n",
              "      <td>0.043026</td>\n",
              "      <td>132.629585</td>\n",
              "      <td>7.039989</td>\n",
              "      <td>23.302972</td>\n",
              "      <td>-5.139075e+02</td>\n",
              "      <td>1.450219</td>\n",
              "      <td>0.067542</td>\n",
              "      <td>0.988375</td>\n",
              "      <td>0.992854</td>\n",
              "      <td>0.881160</td>\n",
              "      <td>-0.599619</td>\n",
              "      <td>1.294431</td>\n",
              "      <td>0.132992</td>\n",
              "      <td>0.899207</td>\n",
              "      <td>0.032587</td>\n",
              "      <td>3.206388</td>\n",
              "      <td>3.635370</td>\n",
              "      <td>5.048023</td>\n",
              "      <td>8.351942</td>\n",
              "      <td>46.790027</td>\n",
              "      <td>127.612146</td>\n",
              "      <td>10.171417</td>\n",
              "      <td>54.965714</td>\n",
              "      <td>131.515325</td>\n",
              "      <td>9.871897</td>\n",
              "      <td>55.043897</td>\n",
              "      <td>136.907048</td>\n",
              "      <td>0.086342</td>\n",
              "      <td>0.267181</td>\n",
              "      <td>0.223350</td>\n",
              "      <td>0.002355</td>\n",
              "      <td>-62.891932</td>\n",
              "      <td>-1.655599</td>\n",
              "      <td>0.016674</td>\n",
              "      <td>7.002203</td>\n",
              "      <td>0.224835</td>\n",
              "      <td>7.403084</td>\n",
              "      <td>0.425641</td>\n",
              "      <td>7.494118</td>\n",
              "      <td>-6.541586</td>\n",
              "      <td>6.420087</td>\n",
              "      <td>11.050356</td>\n",
              "      <td>6.707241</td>\n",
              "      <td>10.678431</td>\n",
              "      <td>6.827145</td>\n",
              "      <td>11.449123</td>\n",
              "      <td>6.246575</td>\n",
              "      <td>10.842857</td>\n",
              "      <td>2.378798</td>\n",
              "      <td>0.053146</td>\n",
              "      <td>0.453315</td>\n",
              "      <td>3.216356</td>\n",
              "      <td>0.043402</td>\n",
              "      <td>0.088695</td>\n",
              "      <td>-0.467607</td>\n",
              "      <td>3.298534</td>\n",
              "      <td>2.421657e+05</td>\n",
              "      <td>0.060176</td>\n",
              "      <td>4.560330</td>\n",
              "      <td>-0.401456</td>\n",
              "      <td>-40.402432</td>\n",
              "      <td>-29.379091</td>\n",
              "      <td>-0.142934</td>\n",
              "      <td>3.403800e+06</td>\n",
              "      <td>7.079955e+05</td>\n",
              "      <td>8.243063e+05</td>\n",
              "      <td>273.249443</td>\n",
              "      <td>4.603521</td>\n",
              "      <td>-27.734073</td>\n",
              "      <td>-4.586089</td>\n",
              "      <td>-4.516422</td>\n",
              "      <td>0.092851</td>\n",
              "      <td>-3.970590</td>\n",
              "    </tr>\n",
              "    <tr>\n",
              "      <th>std</th>\n",
              "      <td>1.309453e+09</td>\n",
              "      <td>13.095575</td>\n",
              "      <td>3.390146</td>\n",
              "      <td>8.814864</td>\n",
              "      <td>0.202916</td>\n",
              "      <td>112.954052</td>\n",
              "      <td>2.957932</td>\n",
              "      <td>19.005351</td>\n",
              "      <td>2.155868e+05</td>\n",
              "      <td>1.008967</td>\n",
              "      <td>0.286624</td>\n",
              "      <td>0.107192</td>\n",
              "      <td>0.084229</td>\n",
              "      <td>0.323601</td>\n",
              "      <td>2.567419</td>\n",
              "      <td>0.683550</td>\n",
              "      <td>0.339567</td>\n",
              "      <td>0.301055</td>\n",
              "      <td>0.177554</td>\n",
              "      <td>1.882709</td>\n",
              "      <td>2.226171</td>\n",
              "      <td>2.273249</td>\n",
              "      <td>6.649216</td>\n",
              "      <td>31.134524</td>\n",
              "      <td>87.647793</td>\n",
              "      <td>5.754592</td>\n",
              "      <td>25.903316</td>\n",
              "      <td>126.503829</td>\n",
              "      <td>5.811526</td>\n",
              "      <td>26.721765</td>\n",
              "      <td>150.296505</td>\n",
              "      <td>0.280870</td>\n",
              "      <td>0.442643</td>\n",
              "      <td>0.417552</td>\n",
              "      <td>0.048476</td>\n",
              "      <td>234.379713</td>\n",
              "      <td>13.379660</td>\n",
              "      <td>1.169463</td>\n",
              "      <td>2.628282</td>\n",
              "      <td>1.110511</td>\n",
              "      <td>2.895241</td>\n",
              "      <td>0.495713</td>\n",
              "      <td>2.950478</td>\n",
              "      <td>4.092733</td>\n",
              "      <td>2.144388</td>\n",
              "      <td>6.528472</td>\n",
              "      <td>2.152389</td>\n",
              "      <td>7.536756</td>\n",
              "      <td>2.112973</td>\n",
              "      <td>8.313070</td>\n",
              "      <td>1.507212</td>\n",
              "      <td>8.192672</td>\n",
              "      <td>11.600105</td>\n",
              "      <td>6.156490</td>\n",
              "      <td>4.031501</td>\n",
              "      <td>37.579450</td>\n",
              "      <td>3.309715</td>\n",
              "      <td>1.381800</td>\n",
              "      <td>3.056504</td>\n",
              "      <td>0.490731</td>\n",
              "      <td>1.677408e+07</td>\n",
              "      <td>0.431884</td>\n",
              "      <td>211.538025</td>\n",
              "      <td>7.267351</td>\n",
              "      <td>86.199084</td>\n",
              "      <td>126.460144</td>\n",
              "      <td>1.193208</td>\n",
              "      <td>3.143407e+07</td>\n",
              "      <td>7.826042e+06</td>\n",
              "      <td>1.089179e+07</td>\n",
              "      <td>3226.608447</td>\n",
              "      <td>2.043703</td>\n",
              "      <td>65.664505</td>\n",
              "      <td>4.543259</td>\n",
              "      <td>4.627886</td>\n",
              "      <td>0.592458</td>\n",
              "      <td>4.690673</td>\n",
              "    </tr>\n",
              "    <tr>\n",
              "      <th>min</th>\n",
              "      <td>1.970000e+11</td>\n",
              "      <td>1970.000000</td>\n",
              "      <td>0.000000</td>\n",
              "      <td>0.000000</td>\n",
              "      <td>0.000000</td>\n",
              "      <td>4.000000</td>\n",
              "      <td>1.000000</td>\n",
              "      <td>-53.154613</td>\n",
              "      <td>-8.618590e+07</td>\n",
              "      <td>1.000000</td>\n",
              "      <td>-9.000000</td>\n",
              "      <td>0.000000</td>\n",
              "      <td>0.000000</td>\n",
              "      <td>0.000000</td>\n",
              "      <td>-9.000000</td>\n",
              "      <td>1.000000</td>\n",
              "      <td>0.000000</td>\n",
              "      <td>0.000000</td>\n",
              "      <td>0.000000</td>\n",
              "      <td>1.000000</td>\n",
              "      <td>1.000000</td>\n",
              "      <td>1.000000</td>\n",
              "      <td>1.000000</td>\n",
              "      <td>1.000000</td>\n",
              "      <td>4.000000</td>\n",
              "      <td>1.000000</td>\n",
              "      <td>1.000000</td>\n",
              "      <td>4.000000</td>\n",
              "      <td>1.000000</td>\n",
              "      <td>1.000000</td>\n",
              "      <td>4.000000</td>\n",
              "      <td>0.000000</td>\n",
              "      <td>0.000000</td>\n",
              "      <td>0.000000</td>\n",
              "      <td>0.000000</td>\n",
              "      <td>-99.000000</td>\n",
              "      <td>-99.000000</td>\n",
              "      <td>-9.000000</td>\n",
              "      <td>1.000000</td>\n",
              "      <td>-9.000000</td>\n",
              "      <td>1.000000</td>\n",
              "      <td>0.000000</td>\n",
              "      <td>1.000000</td>\n",
              "      <td>-9.000000</td>\n",
              "      <td>1.000000</td>\n",
              "      <td>1.000000</td>\n",
              "      <td>1.000000</td>\n",
              "      <td>1.000000</td>\n",
              "      <td>2.000000</td>\n",
              "      <td>1.000000</td>\n",
              "      <td>5.000000</td>\n",
              "      <td>2.000000</td>\n",
              "      <td>0.000000</td>\n",
              "      <td>0.000000</td>\n",
              "      <td>0.000000</td>\n",
              "      <td>0.000000</td>\n",
              "      <td>0.000000</td>\n",
              "      <td>0.000000</td>\n",
              "      <td>-9.000000</td>\n",
              "      <td>1.000000</td>\n",
              "      <td>-9.900000e+01</td>\n",
              "      <td>-9.000000</td>\n",
              "      <td>-99.000000</td>\n",
              "      <td>-99.000000</td>\n",
              "      <td>-99.000000</td>\n",
              "      <td>-99.000000</td>\n",
              "      <td>-9.000000</td>\n",
              "      <td>-9.900000e+01</td>\n",
              "      <td>-9.900000e+01</td>\n",
              "      <td>-9.900000e+01</td>\n",
              "      <td>-99.000000</td>\n",
              "      <td>1.000000</td>\n",
              "      <td>-99.000000</td>\n",
              "      <td>-9.000000</td>\n",
              "      <td>-9.000000</td>\n",
              "      <td>-9.000000</td>\n",
              "      <td>-9.000000</td>\n",
              "    </tr>\n",
              "    <tr>\n",
              "      <th>25%</th>\n",
              "      <td>1.990010e+11</td>\n",
              "      <td>1990.000000</td>\n",
              "      <td>3.000000</td>\n",
              "      <td>8.000000</td>\n",
              "      <td>0.000000</td>\n",
              "      <td>75.000000</td>\n",
              "      <td>5.000000</td>\n",
              "      <td>11.083983</td>\n",
              "      <td>9.699165e-01</td>\n",
              "      <td>1.000000</td>\n",
              "      <td>0.000000</td>\n",
              "      <td>1.000000</td>\n",
              "      <td>1.000000</td>\n",
              "      <td>1.000000</td>\n",
              "      <td>0.000000</td>\n",
              "      <td>1.000000</td>\n",
              "      <td>0.000000</td>\n",
              "      <td>1.000000</td>\n",
              "      <td>0.000000</td>\n",
              "      <td>2.000000</td>\n",
              "      <td>2.000000</td>\n",
              "      <td>2.000000</td>\n",
              "      <td>3.000000</td>\n",
              "      <td>22.000000</td>\n",
              "      <td>83.000000</td>\n",
              "      <td>4.000000</td>\n",
              "      <td>29.000000</td>\n",
              "      <td>92.000000</td>\n",
              "      <td>3.000000</td>\n",
              "      <td>25.000000</td>\n",
              "      <td>71.500000</td>\n",
              "      <td>0.000000</td>\n",
              "      <td>0.000000</td>\n",
              "      <td>0.000000</td>\n",
              "      <td>0.000000</td>\n",
              "      <td>-99.000000</td>\n",
              "      <td>0.000000</td>\n",
              "      <td>0.000000</td>\n",
              "      <td>5.000000</td>\n",
              "      <td>0.000000</td>\n",
              "      <td>7.000000</td>\n",
              "      <td>0.000000</td>\n",
              "      <td>7.000000</td>\n",
              "      <td>-9.000000</td>\n",
              "      <td>5.000000</td>\n",
              "      <td>5.000000</td>\n",
              "      <td>5.000000</td>\n",
              "      <td>5.000000</td>\n",
              "      <td>5.000000</td>\n",
              "      <td>4.000000</td>\n",
              "      <td>5.000000</td>\n",
              "      <td>3.000000</td>\n",
              "      <td>0.000000</td>\n",
              "      <td>0.000000</td>\n",
              "      <td>0.000000</td>\n",
              "      <td>0.000000</td>\n",
              "      <td>0.000000</td>\n",
              "      <td>0.000000</td>\n",
              "      <td>0.000000</td>\n",
              "      <td>3.000000</td>\n",
              "      <td>-9.900000e+01</td>\n",
              "      <td>0.000000</td>\n",
              "      <td>1.000000</td>\n",
              "      <td>0.000000</td>\n",
              "      <td>-99.000000</td>\n",
              "      <td>-99.000000</td>\n",
              "      <td>0.000000</td>\n",
              "      <td>0.000000e+00</td>\n",
              "      <td>0.000000e+00</td>\n",
              "      <td>-9.900000e+01</td>\n",
              "      <td>0.000000</td>\n",
              "      <td>2.000000</td>\n",
              "      <td>-99.000000</td>\n",
              "      <td>-9.000000</td>\n",
              "      <td>-9.000000</td>\n",
              "      <td>0.000000</td>\n",
              "      <td>-9.000000</td>\n",
              "    </tr>\n",
              "    <tr>\n",
              "      <th>50%</th>\n",
              "      <td>2.007011e+11</td>\n",
              "      <td>2007.000000</td>\n",
              "      <td>6.000000</td>\n",
              "      <td>15.000000</td>\n",
              "      <td>0.000000</td>\n",
              "      <td>98.000000</td>\n",
              "      <td>6.000000</td>\n",
              "      <td>31.355579</td>\n",
              "      <td>4.265729e+01</td>\n",
              "      <td>1.000000</td>\n",
              "      <td>0.000000</td>\n",
              "      <td>1.000000</td>\n",
              "      <td>1.000000</td>\n",
              "      <td>1.000000</td>\n",
              "      <td>0.000000</td>\n",
              "      <td>1.000000</td>\n",
              "      <td>0.000000</td>\n",
              "      <td>1.000000</td>\n",
              "      <td>0.000000</td>\n",
              "      <td>3.000000</td>\n",
              "      <td>2.000000</td>\n",
              "      <td>6.000000</td>\n",
              "      <td>4.000000</td>\n",
              "      <td>34.000000</td>\n",
              "      <td>104.000000</td>\n",
              "      <td>14.000000</td>\n",
              "      <td>67.000000</td>\n",
              "      <td>97.000000</td>\n",
              "      <td>14.000000</td>\n",
              "      <td>67.000000</td>\n",
              "      <td>99.000000</td>\n",
              "      <td>0.000000</td>\n",
              "      <td>0.000000</td>\n",
              "      <td>0.000000</td>\n",
              "      <td>0.000000</td>\n",
              "      <td>-99.000000</td>\n",
              "      <td>0.000000</td>\n",
              "      <td>0.000000</td>\n",
              "      <td>8.000000</td>\n",
              "      <td>0.000000</td>\n",
              "      <td>8.000000</td>\n",
              "      <td>0.000000</td>\n",
              "      <td>8.000000</td>\n",
              "      <td>-9.000000</td>\n",
              "      <td>6.000000</td>\n",
              "      <td>12.000000</td>\n",
              "      <td>6.000000</td>\n",
              "      <td>7.000000</td>\n",
              "      <td>6.000000</td>\n",
              "      <td>7.000000</td>\n",
              "      <td>6.000000</td>\n",
              "      <td>9.500000</td>\n",
              "      <td>0.000000</td>\n",
              "      <td>0.000000</td>\n",
              "      <td>0.000000</td>\n",
              "      <td>0.000000</td>\n",
              "      <td>0.000000</td>\n",
              "      <td>0.000000</td>\n",
              "      <td>1.000000</td>\n",
              "      <td>3.000000</td>\n",
              "      <td>-9.900000e+01</td>\n",
              "      <td>0.000000</td>\n",
              "      <td>1.000000</td>\n",
              "      <td>0.000000</td>\n",
              "      <td>0.000000</td>\n",
              "      <td>-99.000000</td>\n",
              "      <td>0.000000</td>\n",
              "      <td>1.375000e+04</td>\n",
              "      <td>0.000000e+00</td>\n",
              "      <td>0.000000e+00</td>\n",
              "      <td>0.000000</td>\n",
              "      <td>4.000000</td>\n",
              "      <td>0.000000</td>\n",
              "      <td>-9.000000</td>\n",
              "      <td>-9.000000</td>\n",
              "      <td>0.000000</td>\n",
              "      <td>0.000000</td>\n",
              "    </tr>\n",
              "    <tr>\n",
              "      <th>75%</th>\n",
              "      <td>2.013111e+11</td>\n",
              "      <td>2013.000000</td>\n",
              "      <td>9.000000</td>\n",
              "      <td>23.000000</td>\n",
              "      <td>0.000000</td>\n",
              "      <td>160.000000</td>\n",
              "      <td>10.000000</td>\n",
              "      <td>34.774479</td>\n",
              "      <td>6.841665e+01</td>\n",
              "      <td>1.000000</td>\n",
              "      <td>0.000000</td>\n",
              "      <td>1.000000</td>\n",
              "      <td>1.000000</td>\n",
              "      <td>1.000000</td>\n",
              "      <td>0.000000</td>\n",
              "      <td>1.000000</td>\n",
              "      <td>0.000000</td>\n",
              "      <td>1.000000</td>\n",
              "      <td>0.000000</td>\n",
              "      <td>3.000000</td>\n",
              "      <td>6.000000</td>\n",
              "      <td>7.000000</td>\n",
              "      <td>14.000000</td>\n",
              "      <td>74.000000</td>\n",
              "      <td>175.000000</td>\n",
              "      <td>14.000000</td>\n",
              "      <td>69.000000</td>\n",
              "      <td>182.000000</td>\n",
              "      <td>14.000000</td>\n",
              "      <td>73.000000</td>\n",
              "      <td>182.000000</td>\n",
              "      <td>0.000000</td>\n",
              "      <td>1.000000</td>\n",
              "      <td>0.000000</td>\n",
              "      <td>0.000000</td>\n",
              "      <td>1.000000</td>\n",
              "      <td>0.000000</td>\n",
              "      <td>0.000000</td>\n",
              "      <td>9.000000</td>\n",
              "      <td>1.000000</td>\n",
              "      <td>10.000000</td>\n",
              "      <td>1.000000</td>\n",
              "      <td>10.000000</td>\n",
              "      <td>0.000000</td>\n",
              "      <td>6.000000</td>\n",
              "      <td>16.000000</td>\n",
              "      <td>8.000000</td>\n",
              "      <td>18.000000</td>\n",
              "      <td>8.000000</td>\n",
              "      <td>19.000000</td>\n",
              "      <td>6.000000</td>\n",
              "      <td>16.000000</td>\n",
              "      <td>2.000000</td>\n",
              "      <td>0.000000</td>\n",
              "      <td>0.000000</td>\n",
              "      <td>2.000000</td>\n",
              "      <td>0.000000</td>\n",
              "      <td>0.000000</td>\n",
              "      <td>1.000000</td>\n",
              "      <td>4.000000</td>\n",
              "      <td>3.000000e+03</td>\n",
              "      <td>0.000000</td>\n",
              "      <td>4.000000</td>\n",
              "      <td>0.000000</td>\n",
              "      <td>0.000000</td>\n",
              "      <td>4.000000</td>\n",
              "      <td>0.000000</td>\n",
              "      <td>4.365000e+05</td>\n",
              "      <td>0.000000e+00</td>\n",
              "      <td>2.635470e+03</td>\n",
              "      <td>0.000000</td>\n",
              "      <td>7.000000</td>\n",
              "      <td>1.000000</td>\n",
              "      <td>0.000000</td>\n",
              "      <td>0.000000</td>\n",
              "      <td>0.000000</td>\n",
              "      <td>0.000000</td>\n",
              "    </tr>\n",
              "    <tr>\n",
              "      <th>max</th>\n",
              "      <td>2.016070e+11</td>\n",
              "      <td>2016.000000</td>\n",
              "      <td>12.000000</td>\n",
              "      <td>31.000000</td>\n",
              "      <td>1.000000</td>\n",
              "      <td>1004.000000</td>\n",
              "      <td>12.000000</td>\n",
              "      <td>74.633553</td>\n",
              "      <td>1.793667e+02</td>\n",
              "      <td>5.000000</td>\n",
              "      <td>1.000000</td>\n",
              "      <td>1.000000</td>\n",
              "      <td>1.000000</td>\n",
              "      <td>1.000000</td>\n",
              "      <td>1.000000</td>\n",
              "      <td>5.000000</td>\n",
              "      <td>1.000000</td>\n",
              "      <td>1.000000</td>\n",
              "      <td>1.000000</td>\n",
              "      <td>9.000000</td>\n",
              "      <td>9.000000</td>\n",
              "      <td>8.000000</td>\n",
              "      <td>22.000000</td>\n",
              "      <td>113.000000</td>\n",
              "      <td>1004.000000</td>\n",
              "      <td>22.000000</td>\n",
              "      <td>113.000000</td>\n",
              "      <td>1004.000000</td>\n",
              "      <td>22.000000</td>\n",
              "      <td>109.000000</td>\n",
              "      <td>1004.000000</td>\n",
              "      <td>1.000000</td>\n",
              "      <td>1.000000</td>\n",
              "      <td>1.000000</td>\n",
              "      <td>1.000000</td>\n",
              "      <td>25000.000000</td>\n",
              "      <td>406.000000</td>\n",
              "      <td>1.000000</td>\n",
              "      <td>10.000000</td>\n",
              "      <td>1.000000</td>\n",
              "      <td>10.000000</td>\n",
              "      <td>1.000000</td>\n",
              "      <td>10.000000</td>\n",
              "      <td>1.000000</td>\n",
              "      <td>13.000000</td>\n",
              "      <td>31.000000</td>\n",
              "      <td>13.000000</td>\n",
              "      <td>31.000000</td>\n",
              "      <td>13.000000</td>\n",
              "      <td>28.000000</td>\n",
              "      <td>12.000000</td>\n",
              "      <td>28.000000</td>\n",
              "      <td>1570.000000</td>\n",
              "      <td>1360.000000</td>\n",
              "      <td>500.000000</td>\n",
              "      <td>8191.000000</td>\n",
              "      <td>751.000000</td>\n",
              "      <td>200.000000</td>\n",
              "      <td>1.000000</td>\n",
              "      <td>4.000000</td>\n",
              "      <td>2.700000e+09</td>\n",
              "      <td>1.000000</td>\n",
              "      <td>17000.000000</td>\n",
              "      <td>86.000000</td>\n",
              "      <td>999.000000</td>\n",
              "      <td>2454.000000</td>\n",
              "      <td>1.000000</td>\n",
              "      <td>1.000000e+09</td>\n",
              "      <td>1.320000e+08</td>\n",
              "      <td>2.750000e+08</td>\n",
              "      <td>48000.000000</td>\n",
              "      <td>7.000000</td>\n",
              "      <td>2769.000000</td>\n",
              "      <td>1.000000</td>\n",
              "      <td>1.000000</td>\n",
              "      <td>1.000000</td>\n",
              "      <td>1.000000</td>\n",
              "    </tr>\n",
              "  </tbody>\n",
              "</table>\n",
              "</div>\n",
              "      <button class=\"colab-df-convert\" onclick=\"convertToInteractive('df-a0b4fa25-6537-4426-af6e-da2c48f069a8')\"\n",
              "              title=\"Convert this dataframe to an interactive table.\"\n",
              "              style=\"display:none;\">\n",
              "        \n",
              "  <svg xmlns=\"http://www.w3.org/2000/svg\" height=\"24px\"viewBox=\"0 0 24 24\"\n",
              "       width=\"24px\">\n",
              "    <path d=\"M0 0h24v24H0V0z\" fill=\"none\"/>\n",
              "    <path d=\"M18.56 5.44l.94 2.06.94-2.06 2.06-.94-2.06-.94-.94-2.06-.94 2.06-2.06.94zm-11 1L8.5 8.5l.94-2.06 2.06-.94-2.06-.94L8.5 2.5l-.94 2.06-2.06.94zm10 10l.94 2.06.94-2.06 2.06-.94-2.06-.94-.94-2.06-.94 2.06-2.06.94z\"/><path d=\"M17.41 7.96l-1.37-1.37c-.4-.4-.92-.59-1.43-.59-.52 0-1.04.2-1.43.59L10.3 9.45l-7.72 7.72c-.78.78-.78 2.05 0 2.83L4 21.41c.39.39.9.59 1.41.59.51 0 1.02-.2 1.41-.59l7.78-7.78 2.81-2.81c.8-.78.8-2.07 0-2.86zM5.41 20L4 18.59l7.72-7.72 1.47 1.35L5.41 20z\"/>\n",
              "  </svg>\n",
              "      </button>\n",
              "      \n",
              "  <style>\n",
              "    .colab-df-container {\n",
              "      display:flex;\n",
              "      flex-wrap:wrap;\n",
              "      gap: 12px;\n",
              "    }\n",
              "\n",
              "    .colab-df-convert {\n",
              "      background-color: #E8F0FE;\n",
              "      border: none;\n",
              "      border-radius: 50%;\n",
              "      cursor: pointer;\n",
              "      display: none;\n",
              "      fill: #1967D2;\n",
              "      height: 32px;\n",
              "      padding: 0 0 0 0;\n",
              "      width: 32px;\n",
              "    }\n",
              "\n",
              "    .colab-df-convert:hover {\n",
              "      background-color: #E2EBFA;\n",
              "      box-shadow: 0px 1px 2px rgba(60, 64, 67, 0.3), 0px 1px 3px 1px rgba(60, 64, 67, 0.15);\n",
              "      fill: #174EA6;\n",
              "    }\n",
              "\n",
              "    [theme=dark] .colab-df-convert {\n",
              "      background-color: #3B4455;\n",
              "      fill: #D2E3FC;\n",
              "    }\n",
              "\n",
              "    [theme=dark] .colab-df-convert:hover {\n",
              "      background-color: #434B5C;\n",
              "      box-shadow: 0px 1px 3px 1px rgba(0, 0, 0, 0.15);\n",
              "      filter: drop-shadow(0px 1px 2px rgba(0, 0, 0, 0.3));\n",
              "      fill: #FFFFFF;\n",
              "    }\n",
              "  </style>\n",
              "\n",
              "      <script>\n",
              "        const buttonEl =\n",
              "          document.querySelector('#df-a0b4fa25-6537-4426-af6e-da2c48f069a8 button.colab-df-convert');\n",
              "        buttonEl.style.display =\n",
              "          google.colab.kernel.accessAllowed ? 'block' : 'none';\n",
              "\n",
              "        async function convertToInteractive(key) {\n",
              "          const element = document.querySelector('#df-a0b4fa25-6537-4426-af6e-da2c48f069a8');\n",
              "          const dataTable =\n",
              "            await google.colab.kernel.invokeFunction('convertToInteractive',\n",
              "                                                     [key], {});\n",
              "          if (!dataTable) return;\n",
              "\n",
              "          const docLinkHtml = 'Like what you see? Visit the ' +\n",
              "            '<a target=\"_blank\" href=https://colab.research.google.com/notebooks/data_table.ipynb>data table notebook</a>'\n",
              "            + ' to learn more about interactive tables.';\n",
              "          element.innerHTML = '';\n",
              "          dataTable['output_type'] = 'display_data';\n",
              "          await google.colab.output.renderOutput(dataTable, element);\n",
              "          const docLink = document.createElement('div');\n",
              "          docLink.innerHTML = docLinkHtml;\n",
              "          element.appendChild(docLink);\n",
              "        }\n",
              "      </script>\n",
              "    </div>\n",
              "  </div>\n",
              "  "
            ],
            "text/plain": [
              "            eventid          iyear  ...       INT_MISC        INT_ANY\n",
              "count  1.642970e+05  164297.000000  ...  164296.000000  164296.000000\n",
              "mean   2.001223e+11    2001.158134  ...       0.092851      -3.970590\n",
              "std    1.309453e+09      13.095575  ...       0.592458       4.690673\n",
              "min    1.970000e+11    1970.000000  ...      -9.000000      -9.000000\n",
              "25%    1.990010e+11    1990.000000  ...       0.000000      -9.000000\n",
              "50%    2.007011e+11    2007.000000  ...       0.000000       0.000000\n",
              "75%    2.013111e+11    2013.000000  ...       0.000000       0.000000\n",
              "max    2.016070e+11    2016.000000  ...       1.000000       1.000000\n",
              "\n",
              "[8 rows x 77 columns]"
            ]
          },
          "metadata": {},
          "execution_count": 28
        }
      ]
    },
    {
      "cell_type": "markdown",
      "source": [
        "***Now we will build a casualties column containing killed & wounded people***"
      ],
      "metadata": {
        "id": "02YtjORXFKl9"
      }
    },
    {
      "cell_type": "code",
      "source": [
        "df['nkill'] = df['nkill'].fillna(0)\n",
        "df['nwound'] = df['nwound'].fillna(0)\n",
        "df['casualties'] = df['nkill'] + df['nwound']"
      ],
      "metadata": {
        "id": "bfHOTwgqFp1n"
      },
      "execution_count": null,
      "outputs": []
    },
    {
      "cell_type": "markdown",
      "source": [
        "***Now let's visualize the terrorism data***"
      ],
      "metadata": {
        "id": "6mac2O9-HCUk"
      }
    },
    {
      "cell_type": "code",
      "source": [
        "import matplotlib.pyplot as plt\n",
        "import seaborn as sns"
      ],
      "metadata": {
        "id": "16F2lTuGHJnx"
      },
      "execution_count": null,
      "outputs": []
    },
    {
      "cell_type": "markdown",
      "source": [
        "***Graph of Terrorist Attacks from year 1970 to1991***"
      ],
      "metadata": {
        "id": "7rmJPLKkHNuN"
      }
    },
    {
      "cell_type": "code",
      "source": [
        "year = df['iyear'].unique()\n",
        "years_count = df['iyear'].value_counts(dropna=False).sort_index()"
      ],
      "metadata": {
        "id": "WTF6oZBUHUB-"
      },
      "execution_count": null,
      "outputs": []
    },
    {
      "cell_type": "code",
      "source": [
        "plt.figure(figsize=(9,9))\n",
        "sns.barplot(x=year,y=years_count, palette='tab10')\n",
        "plt.xticks(rotation = 90)\n",
        "plt.xlabel('Attacking Year', fontsize=20)\n",
        "plt.ylabel('Number of Attacks each Year', fontsize=20)\n",
        "plt.title('Attacks in Years', fontsize=22)\n",
        "plt.show()"
      ],
      "metadata": {
        "colab": {
          "base_uri": "https://localhost:8080/",
          "height": 598
        },
        "id": "k1VCA7fzHpn_",
        "outputId": "c08c63c1-804f-4f90-b204-f60ff5ce18af"
      },
      "execution_count": null,
      "outputs": [
        {
          "output_type": "display_data",
          "data": {
            "image/png": "[encoded data removed]",
            "text/plain": [
              "<Figure size 648x648 with 1 Axes>"
            ]
          },
          "metadata": {
            "needs_background": "light"
          }
        }
      ]
    },
    {
      "cell_type": "markdown",
      "source": [
        "***These Graph shows the number of people killed in Terrorist Attacks***"
      ],
      "metadata": {
        "id": "d-TgqrI9HYha"
      }
    },
    {
      "cell_type": "code",
      "source": [
        "Df = df[['iyear','nkill']].groupby(['iyear']).sum()\n",
        "fig, ax4 = plt.subplots(figsize=(9,9))\n",
        "Df.plot(kind='bar', alpha=0.7, ax=ax4, color='blue')\n",
        "plt.xticks(rotation = 90)\n",
        "plt.title('People died due to Attack', fontsize=25)\n",
        "plt.xlabel('Year', fontsize=20)\n",
        "plt.ylabel('Number of Killed People', fontsize=20)\n",
        "\n",
        "top_side = ax4.spines['top']\n",
        "top_side.set_visible(False)\n",
        "right_side = ax4.spines['right']\n",
        "right_side.set_visible(False)"
      ],
      "metadata": {
        "colab": {
          "base_uri": "https://localhost:8080/",
          "height": 601
        },
        "id": "0fFB3v7wHz8D",
        "outputId": "84980b71-2daa-42b4-f488-16e547c9b7dc"
      },
      "execution_count": null,
      "outputs": [
        {
          "output_type": "display_data",
          "data": {
            "image/png": "[encoded data removed]",
            "text/plain": [
              "<Figure size 648x648 with 1 Axes>"
            ]
          },
          "metadata": {
            "needs_background": "light"
          }
        }
      ]
    },
    {
      "cell_type": "markdown",
      "source": [
        "***These Graph shows the number of Active Terrorist Groups***"
      ],
      "metadata": {
        "id": "-Y1io_uVIeiX"
      }
    },
    {
      "cell_type": "code",
      "source": [
        "df['gname'].value_counts().to_frame().drop('Unknown').head(10).plot(kind='bar',color='red')\n",
        "plt.title('Top 10 Active Terrorist Groups', fontsize=25)\n",
        "plt.xlabel('Group Name ',fontsize=20)\n",
        "plt.ylabel('Attack Number ',fontsize=20)\n",
        "plt.show()"
      ],
      "metadata": {
        "colab": {
          "base_uri": "https://localhost:8080/",
          "height": 549
        },
        "id": "PMULwxCxIhNX",
        "outputId": "3d14e5c3-9d55-4432-f44f-8425750b3e18"
      },
      "execution_count": null,
      "outputs": [
        {
          "output_type": "display_data",
          "data": {
            "image/png": "[encoded data removed]",
            "text/plain": [
              "<Figure size 432x288 with 1 Axes>"
            ]
          },
          "metadata": {
            "needs_background": "light"
          }
        }
      ]
    },
    {
      "cell_type": "markdown",
      "source": [
        "***Graph of Top 10 Attacked Companies***"
      ],
      "metadata": {
        "id": "hAvQc2k6Q9kB"
      }
    },
    {
      "cell_type": "code",
      "source": [
        "df['country_txt'].value_counts().to_frame().sort_values('country_txt',\n",
        "  axis=0,ascending=False).head(10).plot(kind='bar',color='gray',figsize=(9,9))\n",
        "plt.xticks(rotation=90)\n",
        "plt.xlabel('Attack Type ',fontsize=20)\n",
        "plt.ylabel('Number of Attack ',fontsize=20)\n",
        "plt.title('Name of Attack Type', fontsize=25)"
      ],
      "metadata": {
        "colab": {
          "base_uri": "https://localhost:8080/",
          "height": 673
        },
        "id": "puLOOu7xRHm1",
        "outputId": "44d7de33-b074-4fdb-f08f-71eb5af681c0"
      },
      "execution_count": null,
      "outputs": [
        {
          "output_type": "execute_result",
          "data": {
            "text/plain": [
              "Text(0.5, 1.0, 'Name of Attack Type')"
            ]
          },
          "metadata": {},
          "execution_count": 51
        },
        {
          "output_type": "display_data",
          "data": {
            "image/png": "[encoded data removed]",
            "text/plain": [
              "<Figure size 648x648 with 1 Axes>"
            ]
          },
          "metadata": {
            "needs_background": "light"
          }
        }
      ]
    },
    {
      "cell_type": "markdown",
      "source": [
        "***Graph for types of attacks used by Terrorists***"
      ],
      "metadata": {
        "id": "72DCvYxoR_zu"
      }
    },
    {
      "cell_type": "code",
      "source": [
        "df['attacktype1_txt'].value_counts().plot(kind='bar',\n",
        "   figsize=(9,9), color='orange')\n",
        "plt.xticks(rotation=90)\n",
        "plt.xlabel('Attack Type ',fontsize=20)\n",
        "plt.ylabel('Number of Attack ',fontsize=20)\n",
        "plt.title('Name of Attack Type', fontsize=25)"
      ],
      "metadata": {
        "colab": {
          "base_uri": "https://localhost:8080/",
          "height": 772
        },
        "id": "HIozR8IBSBVV",
        "outputId": "855e6079-adee-4782-e0c8-cded8b6e22af"
      },
      "execution_count": null,
      "outputs": [
        {
          "output_type": "execute_result",
          "data": {
            "text/plain": [
              "Text(0.5, 1.0, 'Name of Attack Type')"
            ]
          },
          "metadata": {},
          "execution_count": 52
        },
        {
          "output_type": "display_data",
          "data": {
            "image/png": "[encoded data removed]",
            "text/plain": [
              "<Figure size 648x648 with 1 Axes>"
            ]
          },
          "metadata": {
            "needs_background": "light"
          }
        }
      ]
    },
    {
      "cell_type": "markdown",
      "source": [
        "***Graph to show which sectors are most affected by Terrorist Attacks***"
      ],
      "metadata": {
        "id": "22CEL7uRSHJp"
      }
    },
    {
      "cell_type": "code",
      "source": [
        "plt.subplots(figsize=(16,9))\n",
        "sns.countplot(df['targtype1_txt'],order=df['targtype1_txt'].value_counts().index,\n",
        "    palette='gist_heat',edgecolor=sns.color_palette('Set2'))\n",
        "plt.xticks(rotation=90)\n",
        "plt.xlabel('Attacks on ',fontsize=20)\n",
        "plt.ylabel('Count ',fontsize=20)\n",
        "plt.title('Types of Attack', fontsize=25)"
      ],
      "metadata": {
        "colab": {
          "base_uri": "https://localhost:8080/",
          "height": 768
        },
        "id": "VPZrgsB3SO22",
        "outputId": "3357232b-e64a-4941-a957-712eeabe485f"
      },
      "execution_count": null,
      "outputs": [
        {
          "output_type": "stream",
          "name": "stderr",
          "text": [
            "/usr/local/lib/python3.7/dist-packages/seaborn/_decorators.py:43: FutureWarning: Pass the following variable as a keyword arg: x. From version 0.12, the only valid positional argument will be `data`, and passing other arguments without an explicit keyword will result in an error or misinterpretation.\n",
            "  FutureWarning\n"
          ]
        },
        {
          "output_type": "execute_result",
          "data": {
            "text/plain": [
              "Text(0.5, 1.0, 'Types of Attack')"
            ]
          },
          "metadata": {},
          "execution_count": 53
        },
        {
          "output_type": "display_data",
          "data": {
            "image/png": "[encoded data removed]",
            "text/plain": [
              "<Figure size 1152x648 with 1 Axes>"
            ]
          },
          "metadata": {
            "needs_background": "light"
          }
        }
      ]
    },
    {
      "cell_type": "markdown",
      "source": [
        "***Total Number of People killed in Terrorist Attacks***"
      ],
      "metadata": {
        "id": "MtlswV5ASYsI"
      }
    },
    {
      "cell_type": "code",
      "source": [
        "kill = df.loc[:, 'nkill']\n",
        "print('Total Number of People killed in Terrorist Attacks: ', int(sum(kill.dropna())))"
      ],
      "metadata": {
        "colab": {
          "base_uri": "https://localhost:8080/"
        },
        "id": "XeKMNQd6TvUC",
        "outputId": "8499428c-c47b-4045-9b22-0b682909ae90"
      },
      "execution_count": null,
      "outputs": [
        {
          "output_type": "stream",
          "name": "stdout",
          "text": [
            "Total Number of People killed in Terrorist Attacks:  368659\n"
          ]
        }
      ]
    },
    {
      "cell_type": "markdown",
      "source": [
        "***Different types of Terrorist Attacks***"
      ],
      "metadata": {
        "id": "2d9SXx_nT8L9"
      }
    },
    {
      "cell_type": "code",
      "source": [
        "df1 = df.pivot_table(columns='attacktype1_txt', values='nkill',aggfunc='sum')\n",
        "print(df)"
      ],
      "metadata": {
        "colab": {
          "base_uri": "https://localhost:8080/"
        },
        "id": "XIijPcVuT9nx",
        "outputId": "9a8c9924-b088-45d7-8d9f-d5317b1d3242"
      },
      "execution_count": null,
      "outputs": [
        {
          "output_type": "stream",
          "name": "stdout",
          "text": [
            "             eventid  iyear  imonth  iday  ... INT_MISC  INT_ANY related  casualties\n",
            "0       197000000001   1970       7     2  ...      0.0      0.0     NaN         1.0\n",
            "1       197000000002   1970       0     0  ...      1.0      1.0     NaN         0.0\n",
            "2       197001000001   1970       1     0  ...      1.0      1.0     NaN         1.0\n",
            "3       197001000002   1970       1     0  ...      1.0      1.0     NaN         0.0\n",
            "4       197001000003   1970       1     0  ...      1.0      1.0     NaN         0.0\n",
            "...              ...    ...     ...   ...  ...      ...      ...     ...         ...\n",
            "164292  201607010002   2016       7     1  ...      0.0      0.0     NaN         4.0\n",
            "164293  201607010003   2016       7     1  ...      0.0      0.0     NaN         1.0\n",
            "164294  201607010004   2016       7     1  ...      0.0     -9.0     NaN         2.0\n",
            "164295  201607010005   2016       7     1  ...      0.0     -9.0     NaN         0.0\n",
            "164296  201607010006   2016       7     1  ...      NaN      NaN     NaN         0.0\n",
            "\n",
            "[164297 rows x 136 columns]\n"
          ]
        }
      ]
    },
    {
      "cell_type": "markdown",
      "source": [
        "***People Killed based on countries***"
      ],
      "metadata": {
        "id": "4fSOshThUCEH"
      }
    },
    {
      "cell_type": "code",
      "source": [
        "df2 = df.pivot_table(columns='country', values='nkill', aggfunc='sum')\n",
        "print(df2)"
      ],
      "metadata": {
        "colab": {
          "base_uri": "https://localhost:8080/"
        },
        "id": "6xVHwBWNUHp9",
        "outputId": "4465ec6e-fb2a-4bb4-f616-3083d0e556c8"
      },
      "execution_count": null,
      "outputs": [
        {
          "output_type": "stream",
          "name": "stdout",
          "text": [
            "country     4     5        6     7       8     ...  605   1001  1002  1003    1004\n",
            "nkill    29954.0  42.0  11046.0   0.0  3036.0  ...  15.0   3.0   1.0  83.0  1545.0\n",
            "\n",
            "[1 rows x 205 columns]\n"
          ]
        }
      ]
    },
    {
      "cell_type": "markdown",
      "source": [
        "***Top 10 terrorist groups***"
      ],
      "metadata": {
        "id": "hcZIPLysUM2Q"
      }
    },
    {
      "cell_type": "code",
      "source": [
        "df.gname.value_counts()[1:11]"
      ],
      "metadata": {
        "colab": {
          "base_uri": "https://localhost:8080/"
        },
        "id": "x_3Kv5U8UR1c",
        "outputId": "1a3a45e5-872c-4a2f-e174-974833572a09"
      },
      "execution_count": null,
      "outputs": [
        {
          "output_type": "execute_result",
          "data": {
            "text/plain": [
              "Taliban                                             6049\n",
              "Shining Path (SL)                                   4551\n",
              "Islamic State of Iraq and the Levant (ISIL)         3600\n",
              "Farabundo Marti National Liberation Front (FMLN)    3351\n",
              "Irish Republican Army (IRA)                         2671\n",
              "Revolutionary Armed Forces of Colombia (FARC)       2482\n",
              "Al-Shabaab                                          2398\n",
              "New People's Army (NPA)                             2376\n",
              "Basque Fatherland and Freedom (ETA)                 2024\n",
              "Kurdistan Workers' Party (PKK)                      1978\n",
              "Name: gname, dtype: int64"
            ]
          },
          "metadata": {},
          "execution_count": 57
        }
      ]
    },
    {
      "cell_type": "markdown",
      "source": [
        "## **Result :-**\n",
        "\n",
        "**Highest Number of Attacks took place between 1983 & 1989 with over 4000 attacks.\n",
        "Shining Path(SL) is the most active terrorist group. Farabundo Marti National Liberation Front\n",
        "(FMLN) is yet another active group which is mostly active with (SL).\n",
        "Highest number of Terrorist attacks took place in Peru with El Salvador in the second place.\n",
        "Most frequent attack types were Bombing/Explosion & Armed Assault.\n",
        "Most affected areas by Terrorist Attacks are Buisness & Private Citizens & Military & Government.**\n",
        "\n",
        "\n",
        "## **Thank you!**"
      ],
      "metadata": {
        "id": "HJxTpEZGUkHo"
      }
    }
  ]
}